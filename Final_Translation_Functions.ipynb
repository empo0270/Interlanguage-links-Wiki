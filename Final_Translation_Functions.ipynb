{
 "cells": [
  {
   "cell_type": "markdown",
   "metadata": {},
   "source": [
    "Import Libs"
   ]
  },
  {
   "cell_type": "code",
   "execution_count": 1,
   "metadata": {
    "collapsed": false
   },
   "outputs": [],
   "source": [
    "# Makes the plots appear within the notebook\n",
    "%matplotlib inline\n",
    "\n",
    "# Two fundamental packages for doing data manipulation\n",
    "import numpy as np                   # http://www.numpy.org/\n",
    "import pandas as pd                  # http://pandas.pydata.org/\n",
    "\n",
    "# Two related packages for plotting data\n",
    "import matplotlib.pyplot as plt      # http://matplotlib.org/\n",
    "\n",
    "# Package for requesting data via the web and parsing resulting JSON\n",
    "import requests\n",
    "import json\n",
    "from bs4 import BeautifulSoup\n",
    "\n",
    "# Packages for analyzing complex networks\n",
    "import networkx as nx                # https://networkx.github.io/\n",
    "\n",
    "pd.options.display.max_columns = 100\n",
    "pd.options.display.max_rows = 110"
   ]
  },
  {
   "cell_type": "code",
   "execution_count": 18,
   "metadata": {
    "collapsed": false
   },
   "outputs": [
    {
     "data": {
      "text/plain": [
       "{'batchcomplete': '',\n",
       " 'query': {'pages': {'8177734': {'langlinks': [{'*': 'Golpe de Estado en Fiyi de 2006',\n",
       "      'autonym': 'español',\n",
       "      'lang': 'es',\n",
       "      'langname': 'Spanish'},\n",
       "     {'*': 'Fidžin vallankaappaus 2006',\n",
       "      'autonym': 'suomi',\n",
       "      'lang': 'fi',\n",
       "      'langname': 'Finnish'},\n",
       "     {'*': 'Kudeta Fiji 2006',\n",
       "      'autonym': 'Bahasa Indonesia',\n",
       "      'lang': 'id',\n",
       "      'langname': 'Indonesian'},\n",
       "     {'*': 'Zamach stanu na Fidżi (2006)',\n",
       "      'autonym': 'polski',\n",
       "      'lang': 'pl',\n",
       "      'langname': 'Polish'},\n",
       "     {'*': 'Golpe de Estado nas Fiji de 2006',\n",
       "      'autonym': 'português',\n",
       "      'lang': 'pt',\n",
       "      'langname': 'Portuguese'},\n",
       "     {'*': 'Государственный переворот в Фиджи (2006)',\n",
       "      'autonym': 'русский',\n",
       "      'lang': 'ru',\n",
       "      'langname': 'Russian'},\n",
       "     {'*': '2006年斐濟軍事政變',\n",
       "      'autonym': '中文',\n",
       "      'lang': 'zh',\n",
       "      'langname': 'Chinese'}],\n",
       "    'ns': 0,\n",
       "    'pageid': 8177734,\n",
       "    'title': \"2006 Fijian coup d'état\"}}}}"
      ]
     },
     "execution_count": 18,
     "metadata": {},
     "output_type": "execute_result"
    }
   ],
   "source": [
    "\n",
    "page_title = \"2006 Fijian coup d'état\"\n",
    "\n",
    "_S=\"https://en.wikipedia.org/w/api.php?action=query&format=json&prop=langlinks&titles={0}&llprop=autonym|langname&lllimit=500\".format(page_title)\n",
    "    \n",
    "req = requests.get(_S)\n",
    "\n",
    "json_string = json.loads(req.text)\n",
    "\n",
    "json_string"
   ]
  },
  {
   "cell_type": "code",
   "execution_count": 3,
   "metadata": {
    "collapsed": false
   },
   "outputs": [],
   "source": [
    "\n",
    "def link_getter(page_title):\n",
    "    \n",
    "    _S=\"https://en.wikipedia.org/w/api.php?action=query&format=json&prop=langlinks&titles={0}&llprop=autonym|langname&lllimit=500\".format(page_title)\n",
    "    \n",
    "    req = requests.get(_S)\n",
    "\n",
    "    json_string = json.loads(req.text)\n",
    "    \n",
    "    _pageID=list(json_string['query']['pages'].keys())[0]\n",
    "\n",
    "    if 'langlinks' in json_string['query']['pages'][_pageID]:\n",
    "        \n",
    "        _langlink_list=json_string['query']['pages'][_pageID]['langlinks']\n",
    "\n",
    "    \n",
    "        _langlink_dict=dict()\n",
    "\n",
    "        for d in _langlink_list:\n",
    "            _lang=d['lang']\n",
    "            _title=d['*']\n",
    "            _langlink_dict[_lang]=_title\n",
    "            \n",
    "        _langlink_dict['en'] = page_title\n",
    "    \n",
    "        return _langlink_dict\n",
    "    \n",
    "    else:\n",
    "        return {}"
   ]
  },
  {
   "cell_type": "code",
   "execution_count": 4,
   "metadata": {
    "collapsed": false
   },
   "outputs": [],
   "source": [
    "\n",
    "def name_getter(page_title):\n",
    "    \n",
    "    _S=\"https://en.wikipedia.org/w/api.php?action=query&format=json&prop=langlinks&titles={0}&llprop=autonym|langname&lllimit=500\".format(page_title)\n",
    "    \n",
    "    req = requests.get(_S)\n",
    "\n",
    "    json_string = json.loads(req.text)\n",
    "    \n",
    "    _pageID=list(json_string['query']['pages'].keys())[0]\n",
    "    \n",
    "    if 'langlinks' in json_string['query']['pages'][_pageID]:\n",
    "    \n",
    "    \n",
    "        _langlink_list=json_string['query']['pages'][_pageID]['langlinks']\n",
    "    \n",
    "        _langname_dict=dict()\n",
    "\n",
    "        for t in _langlink_list:\n",
    "            _lang=t['lang']\n",
    "            _langname=t['langname']\n",
    "            _title=t['*']\n",
    "            _langname_dict[_lang]=_langname\n",
    "        \n",
    "        _langname_dict['en'] = _title\n",
    "    \n",
    "        return _langname_dict\n",
    "    else:\n",
    "        return {}"
   ]
  },
  {
   "cell_type": "code",
   "execution_count": 19,
   "metadata": {
    "collapsed": false
   },
   "outputs": [],
   "source": [
    "_langAbrev_dict = {}\n",
    "\n",
    "names_and_langs = name_getter(page_title)\n",
    "\n",
    "for lang,langname in names_and_langs.items():\n",
    "    _langAbrev_dict[lang] = langname"
   ]
  },
  {
   "cell_type": "code",
   "execution_count": 21,
   "metadata": {
    "collapsed": false
   },
   "outputs": [],
   "source": [
    "titles_and_lang_dict = {}\n",
    "\n",
    "pages_and_langs = link_getter(page_title)\n",
    "\n",
    "for lang,title in pages_and_langs.items():\n",
    "    titles_and_lang_dict[lang] = title"
   ]
  },
  {
   "cell_type": "code",
   "execution_count": 23,
   "metadata": {
    "collapsed": true
   },
   "outputs": [],
   "source": [
    "def get_page_outlinks(page_title,lang='en',redirects=1):\n",
    "    # Replace spaces with underscores\n",
    "    page_title = page_title.replace(' ','_')\n",
    "    \n",
    "    bad_titles = ['Special:','Wikipedia:','Help:','Template:','Category:','International Standard','Portal:','s:','File:']\n",
    "    \n",
    "    # Get the response from the API for a query\n",
    "    # After passing a page title, the API returns the HTML markup of the current article version within a JSON payload\n",
    "    req = requests.get('https://{2}.wikipedia.org/w/api.php?action=parse&format=json&page={0}&redirects={1}&prop=text&disableeditsection=1&disabletoc=1'.format(page_title,redirects,lang))\n",
    "    \n",
    "    # Read the response into JSON to parse and extract the HTML\n",
    "    json_string = json.loads(req.text)\n",
    "    \n",
    "    # Initialize an empty list to store the links\n",
    "    outlinks_list = [] \n",
    "    \n",
    "    if 'parse' in json_string.keys():\n",
    "        page_html = json_string['parse']['text']['*']\n",
    "\n",
    "        # Parse the HTML into Beautiful Soup\n",
    "        soup = BeautifulSoup(page_html,'lxml')\n",
    "\n",
    "        # Delete tags associated with templates\n",
    "        for tag in soup.find_all('tr'):\n",
    "            tag.replace_with('')\n",
    "\n",
    "        # For each paragraph tag, extract the titles within the links\n",
    "        for para in soup.find_all('p'):\n",
    "            for link in para.find_all('a'):\n",
    "                if link.has_attr('title'):\n",
    "                    title = link['title']\n",
    "                    # Ignore links that aren't interesting\n",
    "                    if all(bad not in title for bad in bad_titles):\n",
    "                        outlinks_list.append(title)\n",
    "\n",
    "        # For each unordered list, extract the titles within the child links\n",
    "        for unordered_list in soup.find_all('ul'):\n",
    "            for item in unordered_list.find_all('li'):\n",
    "                for link in item.find_all('a'):\n",
    "                    if link.has_attr('title'):\n",
    "                        title = link['title']\n",
    "                        # Ignore links that aren't interesting\n",
    "                        if all(bad not in title for bad in bad_titles):\n",
    "                            outlinks_list.append(title)\n",
    "\n",
    "    return outlinks_list"
   ]
  },
  {
   "cell_type": "code",
   "execution_count": 24,
   "metadata": {
    "collapsed": true
   },
   "outputs": [],
   "source": [
    "outlinks_per_lang = {}\n",
    "\n",
    "language_titles = link_getter(page_title)\n",
    "\n",
    "for lang,title in language_titles.items():\n",
    "    #print(\"The language is\",lang,\"and the article title is\", title)\n",
    "    outlinks_per_lang[lang] = get_page_outlinks(title,lang)"
   ]
  },
  {
   "cell_type": "code",
   "execution_count": 25,
   "metadata": {
    "collapsed": true
   },
   "outputs": [],
   "source": [
    "def get_outlink_translations(outlinks_per_lang):\n",
    "    translation_dict = dict()\n",
    "    for lang,links in outlinks_per_lang.items():\n",
    "        _page_titles = list(set(links))\n",
    "\n",
    "        translation_dict[lang] = {}\n",
    "\n",
    "        for _page_title in _page_titles:\n",
    "            _S=\"https://{1}.wikipedia.org/w/api.php?action=query&format=json&prop=langlinks&titles={0}&redirects=1&lllimit=500&formatversion=2\".format(_page_title,lang)\n",
    "            response = requests.get(_S).json()\n",
    "            if 'pages' in response['query'].keys():\n",
    "                langlink_dict = response['query']['pages'][0]\n",
    "                translation_dict[lang][_page_title] = {}\n",
    "                if 'langlinks' in langlink_dict.keys():\n",
    "                    for _ll in langlink_dict['langlinks']:\n",
    "                        _ll_title = _ll['title']\n",
    "                        _ll_lang = _ll['lang']\n",
    "                        translation_dict[lang][_page_title][_ll_lang] = _ll_title\n",
    "            else:\n",
    "                translation_dict[lang][_page_title] = {}\n",
    "                \n",
    "    return translation_dict"
   ]
  },
  {
   "cell_type": "code",
   "execution_count": 26,
   "metadata": {
    "collapsed": true
   },
   "outputs": [],
   "source": [
    "translation_dict = get_outlink_translations(outlinks_per_lang)"
   ]
  },
  {
   "cell_type": "code",
   "execution_count": 27,
   "metadata": {
    "collapsed": true
   },
   "outputs": [],
   "source": [
    "len_transoutlink_dict_counterEn = {}\n",
    "\n",
    "for lang,titles_dict in translation_dict.items():\n",
    "    len_transoutlink_dict_counterEn[lang]=0         #starting at fa at a count of 0 \n",
    "    for art_title,lang_dict in titles_dict.items(): #go into links on fa \n",
    "        if 'en' in lang_dict.keys():               #check for en version in links \n",
    "            len_transoutlink_dict_counterEn[lang] +=1   #if one is found add to counter \n",
    "            "
   ]
  },
  {
   "cell_type": "code",
   "execution_count": 28,
   "metadata": {
    "collapsed": true
   },
   "outputs": [],
   "source": [
    "len_transoutlink_dict_enList = {}\n",
    "\n",
    "for lang,titles_dict in translation_dict.items():\n",
    "    len_transoutlink_dict_enList[lang]=[]         #starting at fa at a count of 0 \n",
    "    for art_title,lang_dict in titles_dict.items(): #go into links on fa \n",
    "        if 'en' in lang_dict.keys():  \n",
    "            _title = lang_dict['en']        #check for en version in links \n",
    "            len_transoutlink_dict_enList[lang].append(_title)   "
   ]
  },
  {
   "cell_type": "code",
   "execution_count": 29,
   "metadata": {
    "collapsed": true
   },
   "outputs": [],
   "source": [
    "len_transoutlink_dict = {}\n",
    "\n",
    "for langlinks_lang,titles in translation_dict.items():\n",
    "    len_transoutlink_dict[langlinks_lang] = len(titles)"
   ]
  },
  {
   "cell_type": "code",
   "execution_count": 30,
   "metadata": {
    "collapsed": true
   },
   "outputs": [],
   "source": [
    "s_d2 = pd.Series(titles_and_lang_dict)\n",
    "\n",
    "s_d1 = pd.Series(_langAbrev_dict)\n",
    "\n",
    "s_d3 = pd.Series(len_transoutlink_dict)\n",
    "\n",
    "s_d4 = pd.Series(len_transoutlink_dict_counterEn)"
   ]
  },
  {
   "cell_type": "code",
   "execution_count": 31,
   "metadata": {
    "collapsed": true
   },
   "outputs": [],
   "source": [
    "df_mix = pd.DataFrame({'lang' : s_d1,\n",
    "                       'title' : s_d2, \n",
    "                       'total links' : s_d3,\n",
    "                       'english links': s_d4})\n",
    "\n",
    "df_mix = df_mix[['lang', 'title', 'total links', 'english links']]"
   ]
  },
  {
   "cell_type": "code",
   "execution_count": 32,
   "metadata": {
    "collapsed": false
   },
   "outputs": [
    {
     "data": {
      "text/html": [
       "<div>\n",
       "<table border=\"1\" class=\"dataframe\">\n",
       "  <thead>\n",
       "    <tr style=\"text-align: right;\">\n",
       "      <th></th>\n",
       "      <th>lang</th>\n",
       "      <th>title</th>\n",
       "      <th>total links</th>\n",
       "      <th>english links</th>\n",
       "      <th>percent en linkbacks</th>\n",
       "    </tr>\n",
       "  </thead>\n",
       "  <tbody>\n",
       "    <tr>\n",
       "      <th>en</th>\n",
       "      <td>2006年斐濟軍事政變</td>\n",
       "      <td>2006 Fijian coup d'état</td>\n",
       "      <td>137</td>\n",
       "      <td>0</td>\n",
       "      <td>0.000000</td>\n",
       "    </tr>\n",
       "    <tr>\n",
       "      <th>es</th>\n",
       "      <td>Spanish</td>\n",
       "      <td>Golpe de Estado en Fiyi de 2006</td>\n",
       "      <td>35</td>\n",
       "      <td>28</td>\n",
       "      <td>0.800000</td>\n",
       "    </tr>\n",
       "    <tr>\n",
       "      <th>fi</th>\n",
       "      <td>Finnish</td>\n",
       "      <td>Fidžin vallankaappaus 2006</td>\n",
       "      <td>10</td>\n",
       "      <td>10</td>\n",
       "      <td>1.000000</td>\n",
       "    </tr>\n",
       "    <tr>\n",
       "      <th>id</th>\n",
       "      <td>Indonesian</td>\n",
       "      <td>Kudeta Fiji 2006</td>\n",
       "      <td>10</td>\n",
       "      <td>5</td>\n",
       "      <td>0.500000</td>\n",
       "    </tr>\n",
       "    <tr>\n",
       "      <th>pl</th>\n",
       "      <td>Polish</td>\n",
       "      <td>Zamach stanu na Fidżi (2006)</td>\n",
       "      <td>7</td>\n",
       "      <td>7</td>\n",
       "      <td>1.000000</td>\n",
       "    </tr>\n",
       "    <tr>\n",
       "      <th>pt</th>\n",
       "      <td>Portuguese</td>\n",
       "      <td>Golpe de Estado nas Fiji de 2006</td>\n",
       "      <td>13</td>\n",
       "      <td>12</td>\n",
       "      <td>0.923077</td>\n",
       "    </tr>\n",
       "    <tr>\n",
       "      <th>ru</th>\n",
       "      <td>Russian</td>\n",
       "      <td>Государственный переворот в Фиджи (2006)</td>\n",
       "      <td>8</td>\n",
       "      <td>8</td>\n",
       "      <td>1.000000</td>\n",
       "    </tr>\n",
       "    <tr>\n",
       "      <th>zh</th>\n",
       "      <td>Chinese</td>\n",
       "      <td>2006年斐濟軍事政變</td>\n",
       "      <td>43</td>\n",
       "      <td>33</td>\n",
       "      <td>0.767442</td>\n",
       "    </tr>\n",
       "  </tbody>\n",
       "</table>\n",
       "</div>"
      ],
      "text/plain": [
       "           lang                                     title  total links  \\\n",
       "en  2006年斐濟軍事政變                   2006 Fijian coup d'état          137   \n",
       "es      Spanish           Golpe de Estado en Fiyi de 2006           35   \n",
       "fi      Finnish                Fidžin vallankaappaus 2006           10   \n",
       "id   Indonesian                          Kudeta Fiji 2006           10   \n",
       "pl       Polish              Zamach stanu na Fidżi (2006)            7   \n",
       "pt   Portuguese          Golpe de Estado nas Fiji de 2006           13   \n",
       "ru      Russian  Государственный переворот в Фиджи (2006)            8   \n",
       "zh      Chinese                               2006年斐濟軍事政變           43   \n",
       "\n",
       "    english links  percent en linkbacks  \n",
       "en              0              0.000000  \n",
       "es             28              0.800000  \n",
       "fi             10              1.000000  \n",
       "id              5              0.500000  \n",
       "pl              7              1.000000  \n",
       "pt             12              0.923077  \n",
       "ru              8              1.000000  \n",
       "zh             33              0.767442  "
      ]
     },
     "execution_count": 32,
     "metadata": {},
     "output_type": "execute_result"
    }
   ],
   "source": [
    "df_mix['percent en linkbacks'] = df_mix['english links']/df_mix['total links']\n",
    "\n",
    "df_mix"
   ]
  },
  {
   "cell_type": "code",
   "execution_count": 33,
   "metadata": {
    "collapsed": true
   },
   "outputs": [],
   "source": [
    "def super_function (page_title):\n",
    "    \n",
    "    _langlink_dict = link_getter(page_title) #get list of titles per lang  i.e. 'en' : \"2013 Egyptian coup d'état\"\n",
    "    \n",
    "    _langname_dict = name_getter(page_title)#get Language name of each lang with abrev as the key ex: En = English\n",
    "    \n",
    "    _langAbrev_dict = {}    #create language name dictionay\n",
    "\n",
    "    names_and_langs = name_getter(page_title)\n",
    "\n",
    "    for lang,langname in names_and_langs.items():\n",
    "        _langAbrev_dict[lang] = langname\n",
    "        \n",
    "    \n",
    "    titles_and_lang_dict = {} # create page title dictionary \n",
    "\n",
    "    pages_and_langs = link_getter(page_title)\n",
    "\n",
    "    for lang,title in pages_and_langs.items():\n",
    "        titles_and_lang_dict[lang] = title\n",
    "    \n",
    "    outlinks_list = get_page_outlinks(page_title,lang='en',redirects=1) #get outlinks of each page for each language\n",
    "    \n",
    "    outlinks_per_lang = {} #create dictionary of outlinks for each language \n",
    "\n",
    "    language_titles = link_getter(page_title)\n",
    "\n",
    "    for lang,title in language_titles.items():\n",
    "    #print(\"The language is\",lang,\"and the article title is\", title)\n",
    "        outlinks_per_lang[lang] = get_page_outlinks(title,lang)\n",
    "    \n",
    "    translation_dict = get_outlink_translations(outlinks_per_lang) #get ranslations for all outlinks in all other languages \n",
    "    \n",
    "    len_transoutlink_dict_counterEn = {} #make a dictionary for only outlinks that link back in english (number of links only)\n",
    "\n",
    "    for lang,titles_dict in translation_dict.items():\n",
    "        len_transoutlink_dict_counterEn[lang]=0         #starting at fa at a count of 0 \n",
    "        for art_title,lang_dict in titles_dict.items(): #go into links on fa \n",
    "            if 'en' in lang_dict.keys():               #check for en version in links \n",
    "                len_transoutlink_dict_counterEn[lang] +=1\n",
    "    \n",
    "    len_transoutlink_dict = {} #number of outlinks for each ctranslated page \n",
    "\n",
    "    for langlinks_lang,titles in translation_dict.items():\n",
    "        len_transoutlink_dict[langlinks_lang] = len(titles)\n",
    "\n",
    "    s_d2 = pd.Series(titles_and_lang_dict)\n",
    "\n",
    "    s_d1 = pd.Series(_langAbrev_dict)\n",
    "\n",
    "    s_d3 = pd.Series(len_transoutlink_dict)\n",
    "\n",
    "    s_d4 = pd.Series(len_transoutlink_dict_counterEn)   \n",
    "    \n",
    "    df_mix = pd.DataFrame({'lang' : s_d1,  #make a data frame with all dictionaries \n",
    "                       'title' : s_d2, \n",
    "                       'total links' : s_d3,\n",
    "                       'english links': s_d4})\n",
    "\n",
    "    df_mix = df_mix[['lang', 'title', 'total links', 'english links']] #rearrange coumns \n",
    "    \n",
    "    df_mix['percent en linkbacks'] = df_mix['english links']/df_mix['total links']\n",
    "\n",
    "  \n",
    "    return df_mix"
   ]
  },
  {
   "cell_type": "code",
   "execution_count": 35,
   "metadata": {
    "collapsed": false
   },
   "outputs": [
    {
     "data": {
      "text/html": [
       "<div>\n",
       "<table border=\"1\" class=\"dataframe\">\n",
       "  <thead>\n",
       "    <tr style=\"text-align: right;\">\n",
       "      <th></th>\n",
       "      <th>lang</th>\n",
       "      <th>title</th>\n",
       "      <th>total links</th>\n",
       "      <th>english links</th>\n",
       "      <th>percent en linkbacks</th>\n",
       "    </tr>\n",
       "  </thead>\n",
       "  <tbody>\n",
       "    <tr>\n",
       "      <th>ca</th>\n",
       "      <td>Catalan</td>\n",
       "      <td>Colp d'estat a Veneçuela de 2002</td>\n",
       "      <td>22</td>\n",
       "      <td>18</td>\n",
       "      <td>0.818182</td>\n",
       "    </tr>\n",
       "    <tr>\n",
       "      <th>en</th>\n",
       "      <td>Державний переворот у Венесуелі (2002)</td>\n",
       "      <td>2002 Venezuelan coup d'état attempt</td>\n",
       "      <td>172</td>\n",
       "      <td>0</td>\n",
       "      <td>0.000000</td>\n",
       "    </tr>\n",
       "    <tr>\n",
       "      <th>es</th>\n",
       "      <td>Spanish</td>\n",
       "      <td>Golpe de Estado en Venezuela de 2002</td>\n",
       "      <td>190</td>\n",
       "      <td>145</td>\n",
       "      <td>0.763158</td>\n",
       "    </tr>\n",
       "    <tr>\n",
       "      <th>fr</th>\n",
       "      <td>French</td>\n",
       "      <td>Coup d'État de 2002 au Venezuela</td>\n",
       "      <td>74</td>\n",
       "      <td>62</td>\n",
       "      <td>0.837838</td>\n",
       "    </tr>\n",
       "    <tr>\n",
       "      <th>hy</th>\n",
       "      <td>Armenian</td>\n",
       "      <td>Պետական հեղաշրջման փորձ Վենեսուելայում (2002)</td>\n",
       "      <td>12</td>\n",
       "      <td>9</td>\n",
       "      <td>0.750000</td>\n",
       "    </tr>\n",
       "    <tr>\n",
       "      <th>nl</th>\n",
       "      <td>Dutch</td>\n",
       "      <td>Mislukte staatsgreep in Venezuela in 2002</td>\n",
       "      <td>15</td>\n",
       "      <td>10</td>\n",
       "      <td>0.666667</td>\n",
       "    </tr>\n",
       "    <tr>\n",
       "      <th>no</th>\n",
       "      <td>Norwegian</td>\n",
       "      <td>Kuppforsøket i Venezuela i 2002</td>\n",
       "      <td>4</td>\n",
       "      <td>4</td>\n",
       "      <td>1.000000</td>\n",
       "    </tr>\n",
       "    <tr>\n",
       "      <th>pl</th>\n",
       "      <td>Polish</td>\n",
       "      <td>Zamach stanu w Wenezueli (2002)</td>\n",
       "      <td>21</td>\n",
       "      <td>16</td>\n",
       "      <td>0.761905</td>\n",
       "    </tr>\n",
       "    <tr>\n",
       "      <th>pt</th>\n",
       "      <td>Portuguese</td>\n",
       "      <td>Golpe de Estado na Venezuela de 2002</td>\n",
       "      <td>33</td>\n",
       "      <td>30</td>\n",
       "      <td>0.909091</td>\n",
       "    </tr>\n",
       "    <tr>\n",
       "      <th>ru</th>\n",
       "      <td>Russian</td>\n",
       "      <td>Попытка государственного переворота в Венесуэл...</td>\n",
       "      <td>50</td>\n",
       "      <td>49</td>\n",
       "      <td>0.980000</td>\n",
       "    </tr>\n",
       "    <tr>\n",
       "      <th>tr</th>\n",
       "      <td>Turkish</td>\n",
       "      <td>2002 Venezuela askerî darbe girişimi</td>\n",
       "      <td>40</td>\n",
       "      <td>28</td>\n",
       "      <td>0.700000</td>\n",
       "    </tr>\n",
       "    <tr>\n",
       "      <th>uk</th>\n",
       "      <td>Ukrainian</td>\n",
       "      <td>Державний переворот у Венесуелі (2002)</td>\n",
       "      <td>45</td>\n",
       "      <td>37</td>\n",
       "      <td>0.822222</td>\n",
       "    </tr>\n",
       "  </tbody>\n",
       "</table>\n",
       "</div>"
      ],
      "text/plain": [
       "                                      lang  \\\n",
       "ca                                 Catalan   \n",
       "en  Державний переворот у Венесуелі (2002)   \n",
       "es                                 Spanish   \n",
       "fr                                  French   \n",
       "hy                                Armenian   \n",
       "nl                                   Dutch   \n",
       "no                               Norwegian   \n",
       "pl                                  Polish   \n",
       "pt                              Portuguese   \n",
       "ru                                 Russian   \n",
       "tr                                 Turkish   \n",
       "uk                               Ukrainian   \n",
       "\n",
       "                                                title  total links  \\\n",
       "ca                   Colp d'estat a Veneçuela de 2002           22   \n",
       "en                2002 Venezuelan coup d'état attempt          172   \n",
       "es               Golpe de Estado en Venezuela de 2002          190   \n",
       "fr                   Coup d'État de 2002 au Venezuela           74   \n",
       "hy      Պետական հեղաշրջման փորձ Վենեսուելայում (2002)           12   \n",
       "nl          Mislukte staatsgreep in Venezuela in 2002           15   \n",
       "no                    Kuppforsøket i Venezuela i 2002            4   \n",
       "pl                    Zamach stanu w Wenezueli (2002)           21   \n",
       "pt               Golpe de Estado na Venezuela de 2002           33   \n",
       "ru  Попытка государственного переворота в Венесуэл...           50   \n",
       "tr               2002 Venezuela askerî darbe girişimi           40   \n",
       "uk             Державний переворот у Венесуелі (2002)           45   \n",
       "\n",
       "    english links  percent en linkbacks  \n",
       "ca             18              0.818182  \n",
       "en              0              0.000000  \n",
       "es            145              0.763158  \n",
       "fr             62              0.837838  \n",
       "hy              9              0.750000  \n",
       "nl             10              0.666667  \n",
       "no              4              1.000000  \n",
       "pl             16              0.761905  \n",
       "pt             30              0.909091  \n",
       "ru             49              0.980000  \n",
       "tr             28              0.700000  \n",
       "uk             37              0.822222  "
      ]
     },
     "execution_count": 35,
     "metadata": {},
     "output_type": "execute_result"
    }
   ],
   "source": [
    "super_function (\"2002 Venezuelan coup d'état attempt\")"
   ]
  },
  {
   "cell_type": "code",
   "execution_count": 34,
   "metadata": {
    "collapsed": false
   },
   "outputs": [],
   "source": [
    "page_title_list = [\"2002 Venezuelan coup d'état attempt\", \"Oakwood mutiny\", \"2004 Chadian coup d'état attempt\",\"2004 Equatorial Guinea coup d'état attempt\" ,\"2004 Haitian coup d'état\", \"2005 Mauritanian coup d'état\", \"2006 Chadian coup d'état attempt\", \"2006 Fijian coup d'état\", \"2006 Malagasy coup d'état attempt\", \"2006 Thai coup d'état\", \"2007 Laotian coup d'état conspiracy allegation\", \"Manila Peninsula siege\", \"2008 Guinean coup d'état\", \"2008 Mauritanian coup d'état\", \"2012 Malian coup d'état\", \"2013 Egyptian coup d'état\", \"2013 Libyan coup d'état attempt\", \"2014 Gambian coup d'état attempt\", \"2014 Libyan coup d'état attempts\", \"2014 Thai coup d'état\", \"Houthi takeover in Yemen\", \"2015 Burkinabé coup d'état\", \"2015 Burundian coup d'état attempt\", \"2016 Libyan coup d'état attempt\", \"2016 Turkish coup d'état attempt\", \"Black September\", \"1971 Moroccan coup attempt\", \"1971 Sudanese coup d'état\", \"1971 Ugandan coup d'état\", \"1972 Moroccan coup attempt\", \"1972 Republic of the Congo coup d'état attempt\", \"1973 Chilean coup d'état\", \"1973 Laotian coup\", \"1973 Rwandan coup d'état\", \"1974 Nigerien coup d'état\", \"1975 Chadian coup d'état\", \"Assassination of Sheikh Mujibur Rahman\", \"1976 Argentine coup d'état\", \"1976 Burundian coup d'état\", \"1977 Benin coup d'état attempt\", \"Saur Revolution\", \"Operation Storm-333\", \"1979 Equatorial Guinea coup d'état\", \"Coup d'état of December Twelfth\", \"1977 Sudan Juba coup d'état attempt\", \"Coup d'état of May Seventeenth\", \"Nojeh coup plot\", \"1980 Liberian coup d'état\", \"1980 Upper Voltan coup d'état\", \"1980 Surinamese coup d'état\", \"1980 Turkish coup d'état\", \"1981 Central African Republic coup d'état\", \"1982 Kenyan coup d'état attempt\", \"1983 Upper Voltan coup d'état attempt\", \"1984 Cameroonian coup attempt\", \"1987 Burundian coup d'état\", \"1987 Fijian coups d'état\", \"1987 Republic of the Congo coup d'état attempt\", \"1987 Tunisian coup d'état\", \"June 1988 Haitian coup d'état\", \"September 1988 Haitian coup d'état\", \"1989 Burkinabé coup d'état attempt\", \"1989 Panamanian coup d'état attempt\", \"1989 Philippine coup attempt\", \"1989 Sudanese coup d'état\", \"Jamaat al Muslimeen coup attempt\", \"1991 Haitian coup d'état\", \"1991 Lesotho coup d'état\", \"1991 Malian coup d'état\", \"1992 Peruvian constitutional crisis\", \"1992 Sierra Leonean coup d'état\", \"1992 Venezuelan coup d'état attempts\", \"Black May (1992)\", \"1993 Azeri coup d'état\", \"1993 Guatemalan constitutional crisis\", \"1994 Gambian coup d'état\", \"1995 Azerbaijani coup d'état attempt\", \"1996 Burundian coup d'état\", \"1996 Nigerien coup d'état\", \"1997 clashes in Cambodia\", \"1997 Turkish military memorandum\", \"1997 Zambian coup d'état attempt\", \"1999 Ivorian coup d'état\", \"1999 Nigerien coup d'état\", \"1999 Pakistani coup d'état\", \"2000 Ecuadorian coup d'état\", \"2000 Fijian coup d'état\", \"2001 Central African Republic coup d'état attempt\", \"2001 Burundian coup d'état attempt\"]"
   ]
  },
  {
   "cell_type": "code",
   "execution_count": 35,
   "metadata": {
    "collapsed": false
   },
   "outputs": [
    {
     "name": "stdout",
     "output_type": "stream",
     "text": [
      "2016 Libyan coup d'état attempt had an error!\n",
      "1972 Republic of the Congo coup d'état attempt had an error!\n",
      "1973 Laotian coup had an error!\n",
      "1976 Burundian coup d'état had an error!\n",
      "1977 Benin coup d'état attempt had an error!\n",
      "1977 Sudan Juba coup d'état attempt had an error!\n",
      "1981 Central African Republic coup d'état had an error!\n",
      "1984 Cameroonian coup attempt had an error!\n",
      "1987 Republic of the Congo coup d'état attempt had an error!\n",
      "1991 Lesotho coup d'état had an error!\n",
      "1997 Zambian coup d'état attempt had an error!\n",
      "2000 Fijian coup d'état had an error!\n",
      "2001 Burundian coup d'état attempt had an error!\n"
     ]
    }
   ],
   "source": [
    "df_dict = {} #create dictionary with page titles \n",
    "\n",
    "\n",
    "for page_title in page_title_list: #run program and ignore errors \n",
    "    \n",
    "    try:\n",
    "        df = super_function (page_title)\n",
    "\n",
    "        df.to_csv(page_title + '.csv') #create CSV files \n",
    "\n",
    "        df_dict[page_title] = df\n",
    "    \n",
    "    except KeyboardInterrupt:\n",
    "        raise\n",
    "        \n",
    "    except:\n",
    "        print(\"{0} had an error!\".format(page_title))\n",
    "        pass\n",
    "    "
   ]
  },
  {
   "cell_type": "code",
   "execution_count": null,
   "metadata": {
    "collapsed": false
   },
   "outputs": [],
   "source": []
  },
  {
   "cell_type": "code",
   "execution_count": null,
   "metadata": {
    "collapsed": true
   },
   "outputs": [],
   "source": []
  }
 ],
 "metadata": {
  "anaconda-cloud": {},
  "kernelspec": {
   "display_name": "Python [default]",
   "language": "python",
   "name": "python3"
  },
  "language_info": {
   "codemirror_mode": {
    "name": "ipython",
    "version": 3
   },
   "file_extension": ".py",
   "mimetype": "text/x-python",
   "name": "python",
   "nbconvert_exporter": "python",
   "pygments_lexer": "ipython3",
   "version": "3.5.2"
  }
 },
 "nbformat": 4,
 "nbformat_minor": 2
}
