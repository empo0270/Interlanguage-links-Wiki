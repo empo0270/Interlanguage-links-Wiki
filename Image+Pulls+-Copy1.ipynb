{
 "cells": [
  {
   "cell_type": "code",
   "execution_count": 20,
   "metadata": {
    "collapsed": true
   },
   "outputs": [],
   "source": [
    "# Makes the plots appear within the notebook\n",
    "%matplotlib inline\n",
    "\n",
    "# Two fundamental packages for doing data manipulation\n",
    "import numpy as np                   # http://www.numpy.org/\n",
    "import pandas as pd                  # http://pandas.pydata.org/\n",
    "\n",
    "# Two related packages for plotting data\n",
    "import matplotlib.pyplot as plt      # http://matplotlib.org/\n",
    "import seaborn as sb                 # https://stanford.edu/~mwaskom/software/seaborn/\n",
    "\n",
    "# Package for requesting data via the web and parsing resulting JSON\n",
    "import requests\n",
    "import json\n",
    "from bs4 import BeautifulSoup\n",
    "\n",
    "# Two packages for accessing the MySQL server\n",
    "import pymysql                       # http://pymysql.readthedocs.io/en/latest/\n",
    "import os                            # https://docs.python.org/3.4/library/os.html\n",
    "\n",
    "# Packages for analyzing complex networks\n",
    "import networkx as nx                # https://networkx.github.io/\n",
    "import igraph as ig                  #If required manually in terminal use pip install python-igraph\n",
    "\n",
    "# Setup the code environment to use plots with a white background and DataFrames show more columns and rows\n",
    "sb.set_style('whitegrid')\n",
    "pd.options.display.max_columns = 100\n",
    "pd.options.display.max_rows = 110"
   ]
  },
  {
   "cell_type": "code",
   "execution_count": 21,
   "metadata": {
    "collapsed": true
   },
   "outputs": [],
   "source": [
    "\n",
    "page_title = \"2013 Egyptian coup d'état\""
   ]
  },
  {
   "cell_type": "code",
   "execution_count": 43,
   "metadata": {
    "collapsed": true
   },
   "outputs": [],
   "source": [
    "def image_getter1(page_title):\n",
    "    \n",
    "    _S=\"https://en.wikipedia.org/w/api.php?action=query&format=json&titles={0}&prop=images&imlimit=100\".format(page_title)\n",
    "    \n",
    "    #\"https://en.wikipedia.org/w/api.php?action=query&format=json&prop=langlinks&titles={0}&llprop=autonym|langname&lllimit=500\".format(page_title)\n",
    "    \n",
    "    req = requests.get(_S)\n",
    "\n",
    "    json_string = json.loads(req.text)\n",
    "    \n",
    "    _pageID=list(json_string['query']['pages'].keys())[0]\n",
    "\n",
    "    \n",
    "    _image_list = []\n",
    "    \n",
    "    _image_list = json_string['query']['pages'][_pageID]['images']\n",
    "    \n",
    "    \n",
    "    \n",
    "    return _image_list"
   ]
  },
  {
   "cell_type": "code",
   "execution_count": 44,
   "metadata": {
    "collapsed": false
   },
   "outputs": [
    {
     "data": {
      "text/plain": [
       "[{'ns': 6, 'title': 'File:Anti Morsi protest march at 28th June 2013.jpg'},\n",
       " {'ns': 6, 'title': 'File:Commons-logo.svg'},\n",
       " {'ns': 6, 'title': 'File:Damietta protests.jpg'},\n",
       " {'ns': 6, 'title': 'File:Dead bodies in RABIA Massacre (3).jpg'},\n",
       " {'ns': 6, 'title': 'File:Flag of Argentina.svg'},\n",
       " {'ns': 6, 'title': 'File:Flag of Australia.svg'},\n",
       " {'ns': 6, 'title': 'File:Flag of Bahrain.svg'},\n",
       " {'ns': 6, 'title': 'File:Flag of Canada.svg'},\n",
       " {'ns': 6, 'title': 'File:Flag of Colombia.svg'},\n",
       " {'ns': 6, 'title': 'File:Flag of Egypt.svg'},\n",
       " {'ns': 6, 'title': 'File:Flag of Europe.svg'},\n",
       " {'ns': 6, 'title': 'File:Flag of France.svg'},\n",
       " {'ns': 6, 'title': 'File:Flag of Germany.svg'},\n",
       " {'ns': 6, 'title': 'File:Flag of Iran.svg'},\n",
       " {'ns': 6, 'title': 'File:Flag of Iraq.svg'},\n",
       " {'ns': 6, 'title': 'File:Flag of Israel.svg'},\n",
       " {'ns': 6, 'title': 'File:Flag of Jihad.svg'},\n",
       " {'ns': 6, 'title': 'File:Flag of Jordan.svg'},\n",
       " {'ns': 6, 'title': 'File:Flag of Kuwait.svg'},\n",
       " {'ns': 6, 'title': 'File:Flag of Lebanon.svg'},\n",
       " {'ns': 6, 'title': 'File:Flag of Libya.svg'},\n",
       " {'ns': 6, 'title': 'File:Flag of Malaysia.svg'},\n",
       " {'ns': 6, 'title': 'File:Flag of Norway.svg'},\n",
       " {'ns': 6, 'title': 'File:Flag of Pakistan.svg'},\n",
       " {'ns': 6, 'title': 'File:Flag of Palestine.svg'},\n",
       " {'ns': 6, 'title': 'File:Flag of Poland.svg'},\n",
       " {'ns': 6, 'title': 'File:Flag of Qatar.svg'},\n",
       " {'ns': 6, 'title': 'File:Flag of Russia.svg'},\n",
       " {'ns': 6, 'title': 'File:Flag of Saudi Arabia.svg'},\n",
       " {'ns': 6, 'title': 'File:Flag of Somalia.svg'},\n",
       " {'ns': 6, 'title': 'File:Flag of Sudan.svg'},\n",
       " {'ns': 6, 'title': 'File:Flag of Sweden.svg'},\n",
       " {'ns': 6, 'title': 'File:Flag of Switzerland.svg'},\n",
       " {'ns': 6, 'title': 'File:Flag of Syria.svg'},\n",
       " {'ns': 6, 'title': 'File:Flag of Tunisia.svg'},\n",
       " {'ns': 6, 'title': 'File:Flag of Turkey.svg'},\n",
       " {'ns': 6, 'title': 'File:Flag of Yemen.svg'},\n",
       " {'ns': 6, 'title': 'File:Flag of al-Qaeda.svg'},\n",
       " {'ns': 6, 'title': 'File:Flag of the Netherlands.svg'},\n",
       " {'ns': 6, 'title': \"File:Flag of the People's Republic of China.svg\"},\n",
       " {'ns': 6, 'title': 'File:Flag of the Philippines.svg'},\n",
       " {'ns': 6, 'title': 'File:Flag of the United Arab Emirates.svg'},\n",
       " {'ns': 6, 'title': 'File:Flag of the United Kingdom.svg'},\n",
       " {'ns': 6, 'title': 'File:Flag of the United Nations.svg'},\n",
       " {'ns': 6, 'title': 'File:Flag of the United States.svg'},\n",
       " {'ns': 6, 'title': 'File:Folder Hexagonal Icon.svg'},\n",
       " {'ns': 6, 'title': 'File:General Al Sisi.jpg'},\n",
       " {'ns': 6,\n",
       "  'title': 'File:Morsi supporter after mass killings of 27-July-2013.jpg'},\n",
       " {'ns': 6, 'title': 'File:Muslim Brotherhood Emblem.jpg'},\n",
       " {'ns': 6, 'title': 'File:Nuvola apps kaboodle.svg'},\n",
       " {'ns': 6,\n",
       "  'title': 'File:Secretary of Defense Chuck Hagel meets with Egyptian President Mohamed Morsy in Cairo, Egypt, April 24, 2013.jpg'},\n",
       " {'ns': 6, 'title': 'File:Soldier in Tahrir.jpg'},\n",
       " {'ns': 6, 'title': 'File:Wiki letter w cropped.svg'},\n",
       " {'ns': 6, 'title': 'File:Wikiquote-logo.svg'}]"
      ]
     },
     "execution_count": 44,
     "metadata": {},
     "output_type": "execute_result"
    }
   ],
   "source": [
    "image_getter1(page_title)"
   ]
  },
  {
   "cell_type": "code",
   "execution_count": null,
   "metadata": {
    "collapsed": true
   },
   "outputs": [],
   "source": [
    "\n",
    "    \n",
    "    "
   ]
  }
 ],
 "metadata": {
  "kernelspec": {
   "display_name": "Python 3",
   "language": "python",
   "name": "python3"
  },
  "language_info": {
   "codemirror_mode": {
    "name": "ipython",
    "version": 3
   },
   "file_extension": ".py",
   "mimetype": "text/x-python",
   "name": "python",
   "nbconvert_exporter": "python",
   "pygments_lexer": "ipython3",
   "version": "3.4.2"
  }
 },
 "nbformat": 4,
 "nbformat_minor": 2
}
