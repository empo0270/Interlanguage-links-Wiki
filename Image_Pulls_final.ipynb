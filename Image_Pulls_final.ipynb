{
 "cells": [
  {
   "cell_type": "code",
   "execution_count": 1,
   "metadata": {
    "collapsed": false
   },
   "outputs": [],
   "source": [
    "# Makes the plots appear within the notebook\n",
    "%matplotlib inline\n",
    "\n",
    "# Two fundamental packages for doing data manipulation\n",
    "import numpy as np                   # http://www.numpy.org/\n",
    "import pandas as pd                  # http://pandas.pydata.org/\n",
    "\n",
    "# Package for requesting data via the web and parsing resulting JSON\n",
    "import requests\n",
    "import json\n",
    "from bs4 import BeautifulSoup\n",
    "\n",
    "# Packages for analyzing complex networks\n",
    "import networkx as nx                # https://networkx.github.io/"
   ]
  },
  {
   "cell_type": "code",
   "execution_count": 2,
   "metadata": {
    "collapsed": true
   },
   "outputs": [],
   "source": [
    "page_title = \"2004 Chadian coup d'état attempt\""
   ]
  },
  {
   "cell_type": "code",
   "execution_count": 3,
   "metadata": {
    "collapsed": false
   },
   "outputs": [],
   "source": [
    "def image_getter_en(page_title):\n",
    "    \n",
    "    _S=\"https://en.wikipedia.org/w/api.php?action=query&format=json&titles={0}&prop=images&imlimit=100\".format(page_title)\n",
    "    \n",
    "    json_string = requests.get(_S).json()\n",
    "    \n",
    "    _pageID=list(json_string['query']['pages'].keys())[0]\n",
    "    \n",
    "    if 'images' in json_string['query']['pages'][_pageID]:\n",
    "        \n",
    "    \n",
    "        _image_list = json_string['query']['pages'][_pageID]['images']\n",
    "    \n",
    "        extension_check = ['.png', '.jpg']\n",
    "    \n",
    "        _final_list_en = []\n",
    "    \n",
    "        for image in _image_list:\n",
    "            if any(ext in image[\"title\"] for ext in extension_check): \n",
    "                _final_list_en.append(image[\"title\"])  \n",
    "   \n",
    "        return _final_list_en\n",
    "\n",
    "    else:\n",
    "        print('No images found in the page')\n",
    "        return []"
   ]
  },
  {
   "cell_type": "code",
   "execution_count": 4,
   "metadata": {
    "collapsed": false
   },
   "outputs": [
    {
     "data": {
      "text/plain": [
       "{'batchcomplete': '',\n",
       " 'query': {'pages': {'5949224': {'ns': 0,\n",
       "    'pageid': 5949224,\n",
       "    'title': \"2004 Chadian coup d'état attempt\"}}}}"
      ]
     },
     "execution_count": 4,
     "metadata": {},
     "output_type": "execute_result"
    }
   ],
   "source": [
    "\n",
    "\n",
    "_S=\"https://en.wikipedia.org/w/api.php?action=query&format=json&titles={0}&prop=images&imlimit=100\".format(page_title)\n",
    "    \n",
    "    \n",
    "json_string = requests.get(_S).json()\n",
    "\n",
    "\n",
    "json_string\n"
   ]
  },
  {
   "cell_type": "code",
   "execution_count": 5,
   "metadata": {
    "collapsed": false
   },
   "outputs": [
    {
     "name": "stdout",
     "output_type": "stream",
     "text": [
      "No images found in the page\n"
     ]
    },
    {
     "data": {
      "text/plain": [
       "[]"
      ]
     },
     "execution_count": 5,
     "metadata": {},
     "output_type": "execute_result"
    }
   ],
   "source": [
    "page_image_list = image_getter_en(page_title)\n",
    "page_image_list"
   ]
  },
  {
   "cell_type": "code",
   "execution_count": 6,
   "metadata": {
    "collapsed": false
   },
   "outputs": [],
   "source": [
    "def image_page_getter_en(page_image_list):\n",
    "   \n",
    "    _filelink_dict=dict()   \n",
    "   \n",
    "    for image in page_image_list:\n",
    "        \n",
    "        _S=\"https://en.wikipedia.org/w/api.php?action=query&format=json&titles={0}&prop=fileusage&funamespace=0|6|-2&fulimit=500\".format(image)\n",
    "    \n",
    "        json_string = requests.get(_S).json()    \n",
    "                \n",
    "        if  'fileusage' in json_string['query']['pages']['-1']:\n",
    "            \n",
    "            _image_list = json_string['query']['pages']['-1']['fileusage']\n",
    "        \n",
    "            clean_image_list= []\n",
    "        \n",
    "            for linked_image in _image_list:\n",
    "                title = linked_image['title']\n",
    "                clean_image_list.append(title)\n",
    "    \n",
    "            _filelink_dict[image] = clean_image_list\n",
    "            \n",
    "        else : _filelink_dict[image] = []\n",
    "\n",
    "    return _filelink_dict"
   ]
  },
  {
   "cell_type": "code",
   "execution_count": 7,
   "metadata": {
    "collapsed": false
   },
   "outputs": [],
   "source": [
    "def global_page_getter(page_image_list):\n",
    "    \n",
    "    _filelink_dict=dict()   \n",
    "   \n",
    "    for image in page_image_list:\n",
    "        \n",
    "        _S=\"https://en.wikipedia.org/w/api.php?action=query&format=json&titles={0}&prop=globalusage&guprop=url|namespace&gulimit=500\".format(image)\n",
    "   \n",
    "        json_string = requests.get(_S).json()    \n",
    "        \n",
    "        if  '-1' in json_string['query']['pages']:\n",
    "            \n",
    "            _image_list = json_string['query']['pages']['-1']['globalusage']\n",
    "            \n",
    "            # Empty dictionary to be keyed by language with a list of article titles as values\n",
    "            clean_image_dict = {}\n",
    "        \n",
    "            for linked_image in _image_list:\n",
    "                \n",
    "                 if linked_image['ns'] == '0':     \n",
    "                    title = linked_image['title']\n",
    "                    lang = linked_image['wiki'].split('.')[0]\n",
    "                    \n",
    "                    if lang in clean_image_dict:\n",
    "                        \n",
    "                        clean_image_dict[lang].append(title)\n",
    "                        \n",
    "                    else:\n",
    "                        \n",
    "                        clean_image_dict[lang] = [title]\n",
    "                    \n",
    "    \n",
    "            _filelink_dict[image] = clean_image_dict\n",
    "            \n",
    "        else: \n",
    "            _filelink_dict[image] = {} \n",
    "    \n",
    "    return _filelink_dict\n",
    "    "
   ]
  },
  {
   "cell_type": "code",
   "execution_count": 41,
   "metadata": {
    "collapsed": false
   },
   "outputs": [],
   "source": [
    "\n",
    "\n",
    "_filelink_dict=dict()  \n",
    "for image in page_image_list:\n",
    "                \n",
    "    _S=\"https://en.wikipedia.org/w/api.php?action=query&format=json&titles={0}&prop=globalusage&guprop=url|namespace&gulimit=500\".format(image)\n",
    "   \n",
    "    json_string = requests.get(_S).json()    \n",
    "    _filelink_dict[image] = json_string \n",
    "    \n",
    "    \n",
    "    "
   ]
  },
  {
   "cell_type": "code",
   "execution_count": 42,
   "metadata": {
    "collapsed": false
   },
   "outputs": [
    {
     "data": {
      "text/plain": [
       "{}"
      ]
     },
     "execution_count": 42,
     "metadata": {},
     "output_type": "execute_result"
    }
   ],
   "source": [
    "_filelink_dict"
   ]
  },
  {
   "cell_type": "code",
   "execution_count": 43,
   "metadata": {
    "collapsed": false
   },
   "outputs": [
    {
     "data": {
      "text/plain": [
       "{}"
      ]
     },
     "execution_count": 43,
     "metadata": {},
     "output_type": "execute_result"
    }
   ],
   "source": [
    "image_link_dict = global_page_getter(page_image_list)\n",
    "image_link_dict"
   ]
  },
  {
   "cell_type": "code",
   "execution_count": 44,
   "metadata": {
    "collapsed": false
   },
   "outputs": [],
   "source": [
    "def graph_networks(image_link_dict):\n",
    "    \n",
    "    \n",
    "    g = nx.DiGraph()\n",
    "\n",
    "    for filename, link_d in image_link_dict.items():\n",
    "        for lang, page_list in link_d.items():\n",
    "            g.add_edge(lang,filename,weight=len(page_list))\n",
    "        \n",
    "    print(\"There are {0} edges and {1} nodes in the page-image network.\".format(g.number_of_edges(), g.number_of_nodes()))\n",
    "\n",
    "    nx.write_gexf(g, '{0}.gexf'.format(page_title))\n",
    "    \n",
    "    return g"
   ]
  },
  {
   "cell_type": "code",
   "execution_count": 45,
   "metadata": {
    "collapsed": false
   },
   "outputs": [],
   "source": [
    "def super_image_function(page_title):\n",
    "    \n",
    "    page_image_list = image_getter_en(page_title)\n",
    "    \n",
    "    _filelink_dict = global_page_getter(page_image_list)\n",
    "    \n",
    "   \n",
    "    \n",
    "    return _filelink_dict    \n",
    "    "
   ]
  },
  {
   "cell_type": "code",
   "execution_count": 46,
   "metadata": {
    "collapsed": true
   },
   "outputs": [],
   "source": []
  },
  {
   "cell_type": "code",
   "execution_count": 47,
   "metadata": {
    "collapsed": false
   },
   "outputs": [
    {
     "name": "stdout",
     "output_type": "stream",
     "text": [
      "There are 82 edges and 74 nodes in the page-image network.\n",
      "There are 39 edges and 37 nodes in the page-image network.\n",
      "There are 0 edges and 0 nodes in the page-image network.\n",
      "There are 0 edges and 0 nodes in the page-image network.\n",
      "There are 11 edges and 12 nodes in the page-image network.\n",
      "There are 0 edges and 0 nodes in the page-image network.\n",
      "There are 0 edges and 0 nodes in the page-image network.\n",
      "There are 0 edges and 0 nodes in the page-image network.\n",
      "There are 0 edges and 0 nodes in the page-image network.\n",
      "There are 53 edges and 40 nodes in the page-image network.\n",
      "There are 0 edges and 0 nodes in the page-image network.\n",
      "There are 1 edges and 2 nodes in the page-image network.\n",
      "There are 101 edges and 74 nodes in the page-image network.\n",
      "There are 38 edges and 36 nodes in the page-image network.\n",
      "There are 30 edges and 29 nodes in the page-image network.\n",
      "There are 58 edges and 37 nodes in the page-image network.\n",
      "There are 0 edges and 0 nodes in the page-image network.\n",
      "There are 0 edges and 0 nodes in the page-image network.\n",
      "There are 0 edges and 0 nodes in the page-image network.\n",
      "There are 75 edges and 43 nodes in the page-image network.\n",
      "There are 119 edges and 60 nodes in the page-image network.\n",
      "There are 0 edges and 0 nodes in the page-image network.\n",
      "There are 0 edges and 0 nodes in the page-image network.\n",
      "There are 0 edges and 0 nodes in the page-image network.\n",
      "There are 94 edges and 53 nodes in the page-image network.\n",
      "There are 11 edges and 12 nodes in the page-image network.\n",
      "There are 0 edges and 0 nodes in the page-image network.\n",
      "There are 5 edges and 6 nodes in the page-image network.\n",
      "There are 0 edges and 0 nodes in the page-image network.\n",
      "There are 11 edges and 12 nodes in the page-image network.\n",
      "There are 0 edges and 0 nodes in the page-image network.\n",
      "There are 60 edges and 43 nodes in the page-image network.\n",
      "There are 0 edges and 0 nodes in the page-image network.\n",
      "There are 33 edges and 34 nodes in the page-image network.\n",
      "There are 0 edges and 0 nodes in the page-image network.\n",
      "There are 0 edges and 0 nodes in the page-image network.\n",
      "There are 18 edges and 19 nodes in the page-image network.\n",
      "There are 0 edges and 0 nodes in the page-image network.\n",
      "There are 0 edges and 0 nodes in the page-image network.\n",
      "There are 0 edges and 0 nodes in the page-image network.\n",
      "There are 26 edges and 27 nodes in the page-image network.\n",
      "There are 34 edges and 35 nodes in the page-image network.\n",
      "There are 0 edges and 0 nodes in the page-image network.\n",
      "There are 0 edges and 0 nodes in the page-image network.\n",
      "There are 0 edges and 0 nodes in the page-image network.\n",
      "There are 0 edges and 0 nodes in the page-image network.\n",
      "There are 0 edges and 0 nodes in the page-image network.\n",
      "There are 0 edges and 0 nodes in the page-image network.\n",
      "There are 0 edges and 0 nodes in the page-image network.\n",
      "There are 16 edges and 15 nodes in the page-image network.\n",
      "There are 0 edges and 0 nodes in the page-image network.\n",
      "There are 0 edges and 0 nodes in the page-image network.\n",
      "There are 32 edges and 33 nodes in the page-image network.\n",
      "There are 0 edges and 0 nodes in the page-image network.\n",
      "There are 0 edges and 0 nodes in the page-image network.\n",
      "There are 0 edges and 0 nodes in the page-image network.\n",
      "There are 0 edges and 0 nodes in the page-image network.\n",
      "There are 0 edges and 0 nodes in the page-image network.\n",
      "There are 0 edges and 0 nodes in the page-image network.\n",
      "There are 0 edges and 0 nodes in the page-image network.\n",
      "There are 0 edges and 0 nodes in the page-image network.\n",
      "There are 0 edges and 0 nodes in the page-image network.\n",
      "There are 0 edges and 0 nodes in the page-image network.\n",
      "There are 0 edges and 0 nodes in the page-image network.\n",
      "There are 0 edges and 0 nodes in the page-image network.\n",
      "There are 0 edges and 0 nodes in the page-image network.\n",
      "There are 0 edges and 0 nodes in the page-image network.\n",
      "There are 0 edges and 0 nodes in the page-image network.\n",
      "There are 0 edges and 0 nodes in the page-image network.\n",
      "There are 39 edges and 40 nodes in the page-image network.\n",
      "There are 0 edges and 0 nodes in the page-image network.\n",
      "There are 118 edges and 86 nodes in the page-image network.\n",
      "There are 6 edges and 7 nodes in the page-image network.\n",
      "There are 0 edges and 0 nodes in the page-image network.\n",
      "There are 0 edges and 0 nodes in the page-image network.\n",
      "There are 0 edges and 0 nodes in the page-image network.\n",
      "There are 21 edges and 22 nodes in the page-image network.\n",
      "There are 0 edges and 0 nodes in the page-image network.\n",
      "There are 0 edges and 0 nodes in the page-image network.\n",
      "There are 2 edges and 3 nodes in the page-image network.\n",
      "There are 0 edges and 0 nodes in the page-image network.\n",
      "There are 0 edges and 0 nodes in the page-image network.\n",
      "There are 0 edges and 0 nodes in the page-image network.\n",
      "There are 0 edges and 0 nodes in the page-image network.\n",
      "There are 101 edges and 80 nodes in the page-image network.\n",
      "There are 0 edges and 0 nodes in the page-image network.\n",
      "There are 0 edges and 0 nodes in the page-image network.\n",
      "There are 0 edges and 0 nodes in the page-image network.\n",
      "There are 0 edges and 0 nodes in the page-image network.\n"
     ]
    }
   ],
   "source": [
    "final_image_dict = {} #create dictionary with page titles \n",
    "\n",
    "graph_dictionary = {}\n",
    "\n",
    "for page_title in page_title_list: #run program and ignore errors \n",
    "    \n",
    "    try:\n",
    "        \n",
    "        \n",
    "        fid = super_image_function(page_title)\n",
    "        final_image_dict[page_title] = fid\n",
    "\n",
    "        g = graph_networks(fid)\n",
    "        \n",
    "        graph_dictionary[page_title] = g\n",
    "        \n",
    "\n",
    "    \n",
    "    except KeyboardInterrupt:\n",
    "        raise\n",
    "        \n",
    "    except:\n",
    "        print(\"{0} had an error!\".format(page_title))\n",
    "        pass\n",
    "    "
   ]
  },
  {
   "cell_type": "markdown",
   "metadata": {},
   "source": [
    "# Make a network"
   ]
  },
  {
   "cell_type": "code",
   "execution_count": null,
   "metadata": {
    "collapsed": true
   },
   "outputs": [],
   "source": []
  }
 ],
 "metadata": {
  "kernelspec": {
   "display_name": "Python [default]",
   "language": "python",
   "name": "python3"
  },
  "language_info": {
   "codemirror_mode": {
    "name": "ipython",
    "version": 3
   },
   "file_extension": ".py",
   "mimetype": "text/x-python",
   "name": "python",
   "nbconvert_exporter": "python",
   "pygments_lexer": "ipython3",
   "version": "3.5.2"
  }
 },
 "nbformat": 4,
 "nbformat_minor": 2
}
